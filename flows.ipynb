{
 "cells": [
  {
   "cell_type": "code",
   "execution_count": null,
   "metadata": {},
   "outputs": [],
   "source": [
    "import subprocess\n",
    "subprocess.run(\"make\", shell=True)"
   ]
  },
  {
   "cell_type": "code",
   "execution_count": 1,
   "metadata": {},
   "outputs": [],
   "source": [
    "import subprocess\n",
    "import re\n",
    "from functools import partial\n",
    "from matplotlib import pyplot as plt\n",
    "timeout = 10\n",
    "def get_avg_time(obj, n=10, m=100, c=1000, num=30, global_heuristic_flag=-1):\n",
    "    tot_time = 0\n",
    "    for i in range(num):\n",
    "        if(global_heuristic_flag == -1):\n",
    "            file = open('graph.txt','w')\n",
    "            subprocess.run(['./create_graph', str(n), str(m), str(c)], stdout = file)\n",
    "            file.close()\n",
    "            out = subprocess.check_output(['./' + obj, 'graph.txt'], timeout = timeout)\n",
    "        else:\n",
    "            file = open('graph.txt','w')\n",
    "            subprocess.run(['./create_graph', str(n), str(m), str(c)], stdout = file)\n",
    "            file.close()\n",
    "            out = subprocess.check_output(['./' + obj, 'graph.txt', str(global_heuristic_flag)], timeout = timeout)\n",
    "        out = str(out, 'utf-8')\n",
    "        time = float(re.split('\\n|:',out)[-2])\n",
    "        tot_time += time\n",
    "        \n",
    "    return tot_time / num\n",
    "\n",
    "flow_names = [\"Ford Fulkerson (CPU)\", \"Edmond Karp (CPU)\", \"Ford Fulkerson (GPU)\", \"Edmond Karp (GPU)\", \n",
    "              \"Push Relabel w/o Global relabel (GPU)\", \"Push Relabel w/ Global relabel (GPU)\"]\n",
    "flow_functions = [\n",
    "    partial(get_avg_time, \"ford_fulkerson_cpu\"),\n",
    "    partial(get_avg_time, \"edmond_karp_cpu\"),\n",
    "    partial(get_avg_time, \"ford_fulkerson_gpu\"),\n",
    "    partial(get_avg_time, \"edmond_karp_gpu\"),\n",
    "    partial(get_avg_time,\"push_relabel_gpu\",global_heuristic_flag=0),\n",
    "    partial(get_avg_time,\"push_relabel_gpu\",global_heuristic_flag=1)\n",
    "]\n",
    "flow_colors = ['k','g','b','r','c','m']"
   ]
  },
  {
   "cell_type": "code",
   "execution_count": 2,
   "metadata": {
    "scrolled": true
   },
   "outputs": [],
   "source": [
    "# Varying number of edges while keeping number of vertices fixed\n",
    "def varyE(n):\n",
    "    print('Number of vertices: {}'.format(n))\n",
    "    for i in range(6):\n",
    "        name = flow_names[i]\n",
    "        foo = flow_functions[i]\n",
    "        color = flow_colors[i]\n",
    "        print('Method: {}'.format(name))\n",
    "        m = 100\n",
    "        times = [0]\n",
    "        edges = [0]\n",
    "        while(m <= 1000000):\n",
    "            try:\n",
    "                t = foo(n, m)\n",
    "                times.append(t)\n",
    "                edges.append(m)\n",
    "            except:\n",
    "                times.append(timeout)\n",
    "                edges.append(m)\n",
    "            m *= 2\n",
    "        plt.plot(edges, times, color, label = name)\n",
    "    plt.xscale(\"log\")\n",
    "    plt.title('Time v/s |E|, |V| = {}, Max. Capacity 1000'.format(n))\n",
    "    plt.xlabel('|E|, number of edges')\n",
    "    plt.ylabel('Time (in sec)')\n",
    "    plt.legend()\n",
    "    plt.savefig('plots/VaryE_{}.png'.format(n))\n",
    "    plt.show()\n",
    "    \n",
    "def varyV(m):\n",
    "    print('Number of edges: {}'.format(m))\n",
    "    for i in range(6):\n",
    "        name = flow_names[i]\n",
    "        foo = flow_functions[i]\n",
    "        color = flow_colors[i]\n",
    "        print('Method: {}'.format(name))\n",
    "        n = 100\n",
    "        times = [0]\n",
    "        vertices = [0]\n",
    "        while(n <= 1000000):\n",
    "            try:\n",
    "                t = foo(n, m)\n",
    "                times.append(t)\n",
    "                vertices.append(n)\n",
    "            except:\n",
    "                times.append(timeout)\n",
    "                vertices.append(n)\n",
    "            n *= 2\n",
    "        plt.plot(vertices, times, color, label = name)\n",
    "    plt.xscale(\"log\")\n",
    "    plt.title('Time v/s |V|, |E| = {}, Max. Capacity 1000'.format(m))\n",
    "    plt.xlabel('|V|, number of vertices')\n",
    "    plt.ylabel('Time (in sec)')\n",
    "    plt.legend()\n",
    "    plt.savefig('plots/VaryV_{}.png'.format(n))\n",
    "    plt.show()\n",
    "    \n",
    "def varyC(n,m):\n",
    "    print('Number of vertices:{}, Number of edges: {}'.format(n, m))\n",
    "    for i in range(6):\n",
    "        name = flow_names[i]\n",
    "        foo = flow_functions[i]\n",
    "        color = flow_colors[i]\n",
    "        print('Method: {}'.format(name))\n",
    "        c = 1\n",
    "        times = [0]\n",
    "        cap = [0]\n",
    "        while(c * m <= 1000000000):\n",
    "            try:\n",
    "                t = foo(n, m, c)\n",
    "                times.append(t)\n",
    "                cap.append(c)\n",
    "            except:\n",
    "                times.append(timeout)\n",
    "                cap.append(c)\n",
    "            c *= 2\n",
    "        plt.plot(cap, times, color, label = name)\n",
    "    plt.xscale(\"log\")\n",
    "    plt.title('Time v/s Max Capacity, |V| = {}, |E| = {}'.format(n,m))\n",
    "    plt.xlabel('Max. capacity')\n",
    "    plt.ylabel('Time (in sec)')\n",
    "    plt.legend()\n",
    "    plt.savefig('plots/VaryC_{}_{}.png'.format(n,m))\n",
    "    plt.show()"
   ]
  },
  {
   "cell_type": "code",
   "execution_count": 3,
   "metadata": {
    "scrolled": true
   },
   "outputs": [
    {
     "name": "stdout",
     "output_type": "stream",
     "text": [
      "Number of vertices:1000, Number of edges: 1000000\n",
      "Method: Ford Fulkerson (CPU)\n",
      "Method: Edmond Karp (CPU)\n",
      "Method: Ford Fulkerson (GPU)\n",
      "Method: Edmond Karp (GPU)\n",
      "Method: Push Relabel w/o Global relabel (GPU)\n",
      "Method: Push Relabel w/ Global relabel (GPU)\n"
     ]
    },
    {
     "data": {
      "image/png": "[encoded data removed]",
      "text/plain": [
       "<Figure size 432x288 with 1 Axes>"
      ]
     },
     "metadata": {
      "needs_background": "light"
     },
     "output_type": "display_data"
    }
   ],
   "source": [
    "varyC(1000,1000000)"
   ]
  },
  {
   "cell_type": "code",
   "execution_count": null,
   "metadata": {},
   "outputs": [],
   "source": []
  }
 ],
 "metadata": {
  "kernelspec": {
   "display_name": "Python 3",
   "language": "python",
   "name": "python3"
  },
  "language_info": {
   "codemirror_mode": {
    "name": "ipython",
    "version": 3
   },
   "file_extension": ".py",
   "mimetype": "text/x-python",
   "name": "python",
   "nbconvert_exporter": "python",
   "pygments_lexer": "ipython3",
   "version": "3.7.9"
  }
 },
 "nbformat": 4,
 "nbformat_minor": 4
}
